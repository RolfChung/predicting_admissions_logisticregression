{
 "cells": [
  {
   "cell_type": "markdown",
   "metadata": {},
   "source": [
    "## Summary\n",
    "<p>\n",
    "This projects makes predictions about college admissions with the logistic regression algorithm. The target variable or label is \"admitted\" to college. \n",
    "</p>\n",
    "<p>\n",
    "The data set consists of 644 applications with three variables:\n",
    "</p>\n",
    "<ul>\n",
    "<li>gre - applicant's score on the Graduate Record Exam, a generalized test for prospective graduate students.</li> \n",
    "<li>gpa - college grade point average.</li>\n",
    "<li>admit - binary value. Binary value, 0 or 1, where 1 means the applicant was admitted to the program and 0 means the applicant was rejected.</li>\n",
    "</ul>"
   ]
  },
  {
   "cell_type": "markdown",
   "metadata": {},
   "source": [
    "## Import packages"
   ]
  },
  {
   "cell_type": "code",
   "execution_count": 41,
   "metadata": {},
   "outputs": [],
   "source": [
    "import pandas as pd\n",
    "import matplotlib.pyplot as plt\n",
    "%matplotlib inline\n",
    "import seaborn as sns\n",
    "import numpy as np\n",
    "from sklearn.neighbors import KNeighborsRegressor \n",
    "from sklearn.model_selection import train_test_split\n",
    "from sklearn.metrics import mean_squared_error\n",
    "import itertools\n",
    "from sklearn.metrics import mean_squared_error\n",
    "from sklearn.model_selection import train_test_split\n",
    "from sklearn.linear_model import LogisticRegression\n",
    "from sklearn.metrics import accuracy_score\n",
    "from sklearn.metrics import confusion_matrix"
   ]
  },
  {
   "cell_type": "markdown",
   "metadata": {},
   "source": [
    "## Import data"
   ]
  },
  {
   "cell_type": "code",
   "execution_count": 42,
   "metadata": {},
   "outputs": [],
   "source": [
    "admissions = pd.read_csv(\"admissions_dq.csv\")"
   ]
  },
  {
   "cell_type": "markdown",
   "metadata": {},
   "source": [
    "## Explore data"
   ]
  },
  {
   "cell_type": "code",
   "execution_count": 43,
   "metadata": {},
   "outputs": [
    {
     "data": {
      "text/plain": [
       "(644, 3)"
      ]
     },
     "execution_count": 43,
     "metadata": {},
     "output_type": "execute_result"
    }
   ],
   "source": [
    "admissions.shape"
   ]
  },
  {
   "cell_type": "code",
   "execution_count": 44,
   "metadata": {},
   "outputs": [
    {
     "name": "stdout",
     "output_type": "stream",
     "text": [
      "<class 'pandas.core.frame.DataFrame'>\n",
      "RangeIndex: 644 entries, 0 to 643\n",
      "Data columns (total 3 columns):\n",
      "admit    644 non-null int64\n",
      "gpa      644 non-null float64\n",
      "gre      644 non-null float64\n",
      "dtypes: float64(2), int64(1)\n",
      "memory usage: 15.2 KB\n"
     ]
    }
   ],
   "source": [
    "admissions.info()"
   ]
  },
  {
   "cell_type": "code",
   "execution_count": 45,
   "metadata": {},
   "outputs": [
    {
     "data": {
      "text/html": [
       "<div>\n",
       "<style>\n",
       "    .dataframe thead tr:only-child th {\n",
       "        text-align: right;\n",
       "    }\n",
       "\n",
       "    .dataframe thead th {\n",
       "        text-align: left;\n",
       "    }\n",
       "\n",
       "    .dataframe tbody tr th {\n",
       "        vertical-align: top;\n",
       "    }\n",
       "</style>\n",
       "<table border=\"1\" class=\"dataframe\">\n",
       "  <thead>\n",
       "    <tr style=\"text-align: right;\">\n",
       "      <th></th>\n",
       "      <th>admit</th>\n",
       "      <th>gpa</th>\n",
       "      <th>gre</th>\n",
       "    </tr>\n",
       "  </thead>\n",
       "  <tbody>\n",
       "    <tr>\n",
       "      <th>0</th>\n",
       "      <td>0</td>\n",
       "      <td>3.177277</td>\n",
       "      <td>594.102992</td>\n",
       "    </tr>\n",
       "    <tr>\n",
       "      <th>1</th>\n",
       "      <td>0</td>\n",
       "      <td>3.412655</td>\n",
       "      <td>631.528607</td>\n",
       "    </tr>\n",
       "    <tr>\n",
       "      <th>2</th>\n",
       "      <td>0</td>\n",
       "      <td>2.728097</td>\n",
       "      <td>553.714399</td>\n",
       "    </tr>\n",
       "    <tr>\n",
       "      <th>3</th>\n",
       "      <td>0</td>\n",
       "      <td>3.093559</td>\n",
       "      <td>551.089985</td>\n",
       "    </tr>\n",
       "    <tr>\n",
       "      <th>4</th>\n",
       "      <td>0</td>\n",
       "      <td>3.141923</td>\n",
       "      <td>537.184894</td>\n",
       "    </tr>\n",
       "  </tbody>\n",
       "</table>\n",
       "</div>"
      ],
      "text/plain": [
       "   admit       gpa         gre\n",
       "0      0  3.177277  594.102992\n",
       "1      0  3.412655  631.528607\n",
       "2      0  2.728097  553.714399\n",
       "3      0  3.093559  551.089985\n",
       "4      0  3.141923  537.184894"
      ]
     },
     "execution_count": 45,
     "metadata": {},
     "output_type": "execute_result"
    }
   ],
   "source": [
    "admissions.head()"
   ]
  },
  {
   "cell_type": "code",
   "execution_count": 46,
   "metadata": {},
   "outputs": [
    {
     "data": {
      "text/html": [
       "<div>\n",
       "<style>\n",
       "    .dataframe thead tr:only-child th {\n",
       "        text-align: right;\n",
       "    }\n",
       "\n",
       "    .dataframe thead th {\n",
       "        text-align: left;\n",
       "    }\n",
       "\n",
       "    .dataframe tbody tr th {\n",
       "        vertical-align: top;\n",
       "    }\n",
       "</style>\n",
       "<table border=\"1\" class=\"dataframe\">\n",
       "  <thead>\n",
       "    <tr style=\"text-align: right;\">\n",
       "      <th></th>\n",
       "      <th>admit</th>\n",
       "      <th>gpa</th>\n",
       "      <th>gre</th>\n",
       "    </tr>\n",
       "  </thead>\n",
       "  <tbody>\n",
       "    <tr>\n",
       "      <th>639</th>\n",
       "      <td>1</td>\n",
       "      <td>3.381359</td>\n",
       "      <td>720.718438</td>\n",
       "    </tr>\n",
       "    <tr>\n",
       "      <th>640</th>\n",
       "      <td>1</td>\n",
       "      <td>3.083956</td>\n",
       "      <td>556.918021</td>\n",
       "    </tr>\n",
       "    <tr>\n",
       "      <th>641</th>\n",
       "      <td>1</td>\n",
       "      <td>3.114419</td>\n",
       "      <td>734.297679</td>\n",
       "    </tr>\n",
       "    <tr>\n",
       "      <th>642</th>\n",
       "      <td>1</td>\n",
       "      <td>3.549012</td>\n",
       "      <td>604.697503</td>\n",
       "    </tr>\n",
       "    <tr>\n",
       "      <th>643</th>\n",
       "      <td>1</td>\n",
       "      <td>3.532753</td>\n",
       "      <td>588.986175</td>\n",
       "    </tr>\n",
       "  </tbody>\n",
       "</table>\n",
       "</div>"
      ],
      "text/plain": [
       "     admit       gpa         gre\n",
       "639      1  3.381359  720.718438\n",
       "640      1  3.083956  556.918021\n",
       "641      1  3.114419  734.297679\n",
       "642      1  3.549012  604.697503\n",
       "643      1  3.532753  588.986175"
      ]
     },
     "execution_count": 46,
     "metadata": {},
     "output_type": "execute_result"
    }
   ],
   "source": [
    "admissions.tail()"
   ]
  },
  {
   "cell_type": "code",
   "execution_count": 47,
   "metadata": {},
   "outputs": [
    {
     "data": {
      "text/plain": [
       "admit      int64\n",
       "gpa      float64\n",
       "gre      float64\n",
       "dtype: object"
      ]
     },
     "execution_count": 47,
     "metadata": {},
     "output_type": "execute_result"
    }
   ],
   "source": [
    "admissions.dtypes"
   ]
  },
  {
   "cell_type": "code",
   "execution_count": 48,
   "metadata": {},
   "outputs": [
    {
     "data": {
      "image/png": "[encoded data removed]",
      "text/plain": [
       "<Figure size 936x288 with 3 Axes>"
      ]
     },
     "metadata": {
      "needs_background": "light"
     },
     "output_type": "display_data"
    }
   ],
   "source": [
    "f, (ax1, ax2, ax3) = plt.subplots(1, 3, sharey=False)\n",
    "f.set_figheight(4)\n",
    "f.set_figwidth(13)\n",
    "ax1.hist(admissions['admit'])\n",
    "ax1.set_title(\"Admitted\")\n",
    "ax2.hist(admissions['gpa'], color=\"red\")\n",
    "ax2.set_title(\"GPA\")\n",
    "ax3.hist(admissions['gre'], color=\"green\")\n",
    "ax3.set_title(\"Gre (score Graduate Exam)\")\n",
    "plt.show()"
   ]
  },
  {
   "cell_type": "markdown",
   "metadata": {},
   "source": [
    "The target variable is \"Admitted\". This variable is binary. The other values are similar to the normal distribution.\n",
    "This makes sense as scores with the highest frequency are normally around the mean."
   ]
  },
  {
   "cell_type": "code",
   "execution_count": 49,
   "metadata": {},
   "outputs": [
    {
     "data": {
      "image/png": "[encoded data removed]",
      "text/plain": [
       "<Figure size 936x288 with 3 Axes>"
      ]
     },
     "metadata": {
      "needs_background": "light"
     },
     "output_type": "display_data"
    }
   ],
   "source": [
    "f, (ax1, ax2, ax3) = plt.subplots(1, 3, sharey=False)\n",
    "f.set_figheight(4)\n",
    "f.set_figwidth(13)\n",
    "ax1.boxplot(admissions['admit'])\n",
    "ax1.set_title(\"Admitted\")\n",
    "ax2.boxplot(admissions['gpa'])\n",
    "ax2.set_title(\"GPA\")\n",
    "ax3.boxplot(admissions['gre'])\n",
    "ax3.set_title(\"Gre (score Graduate Exam)\")\n",
    "plt.show()"
   ]
  },
  {
   "cell_type": "code",
   "execution_count": 50,
   "metadata": {},
   "outputs": [
    {
     "data": {
      "text/html": [
       "<div>\n",
       "<style>\n",
       "    .dataframe thead tr:only-child th {\n",
       "        text-align: right;\n",
       "    }\n",
       "\n",
       "    .dataframe thead th {\n",
       "        text-align: left;\n",
       "    }\n",
       "\n",
       "    .dataframe tbody tr th {\n",
       "        vertical-align: top;\n",
       "    }\n",
       "</style>\n",
       "<table border=\"1\" class=\"dataframe\">\n",
       "  <thead>\n",
       "    <tr style=\"text-align: right;\">\n",
       "      <th></th>\n",
       "      <th>admit</th>\n",
       "      <th>0</th>\n",
       "      <th>1</th>\n",
       "      <th>difference</th>\n",
       "    </tr>\n",
       "  </thead>\n",
       "  <tbody>\n",
       "    <tr>\n",
       "      <th rowspan=\"4\" valign=\"top\">gpa</th>\n",
       "      <th>mean</th>\n",
       "      <td>3.0</td>\n",
       "      <td>3.0</td>\n",
       "      <td>0.0</td>\n",
       "    </tr>\n",
       "    <tr>\n",
       "      <th>median</th>\n",
       "      <td>3.0</td>\n",
       "      <td>3.0</td>\n",
       "      <td>0.0</td>\n",
       "    </tr>\n",
       "    <tr>\n",
       "      <th>std</th>\n",
       "      <td>0.0</td>\n",
       "      <td>0.0</td>\n",
       "      <td>0.0</td>\n",
       "    </tr>\n",
       "    <tr>\n",
       "      <th>count</th>\n",
       "      <td>400.0</td>\n",
       "      <td>244.0</td>\n",
       "      <td>-156.0</td>\n",
       "    </tr>\n",
       "    <tr>\n",
       "      <th rowspan=\"4\" valign=\"top\">gre</th>\n",
       "      <th>mean</th>\n",
       "      <td>583.0</td>\n",
       "      <td>661.0</td>\n",
       "      <td>78.0</td>\n",
       "    </tr>\n",
       "    <tr>\n",
       "      <th>median</th>\n",
       "      <td>582.0</td>\n",
       "      <td>659.0</td>\n",
       "      <td>77.0</td>\n",
       "    </tr>\n",
       "    <tr>\n",
       "      <th>std</th>\n",
       "      <td>67.0</td>\n",
       "      <td>67.0</td>\n",
       "      <td>0.0</td>\n",
       "    </tr>\n",
       "    <tr>\n",
       "      <th>count</th>\n",
       "      <td>400.0</td>\n",
       "      <td>244.0</td>\n",
       "      <td>-156.0</td>\n",
       "    </tr>\n",
       "  </tbody>\n",
       "</table>\n",
       "</div>"
      ],
      "text/plain": [
       "admit           0      1  difference\n",
       "gpa mean      3.0    3.0         0.0\n",
       "    median    3.0    3.0         0.0\n",
       "    std       0.0    0.0         0.0\n",
       "    count   400.0  244.0      -156.0\n",
       "gre mean    583.0  661.0        78.0\n",
       "    median  582.0  659.0        77.0\n",
       "    std      67.0   67.0         0.0\n",
       "    count   400.0  244.0      -156.0"
      ]
     },
     "execution_count": 50,
     "metadata": {},
     "output_type": "execute_result"
    }
   ],
   "source": [
    "admission_agg = admissions.groupby('admit').agg(['mean', 'median', 'std', 'count']).round().transpose()\n",
    "admission_agg['difference'] = admission_agg[1] - admission_agg[0]\n",
    "admission_agg"
   ]
  },
  {
   "cell_type": "markdown",
   "metadata": {},
   "source": [
    "The gpa difference in median between addmitted or not is 0.196881. \n",
    "The gre difference in median between addmitted or not is 76.842001. \n",
    "Of the total applicants 244 were addmittd and 400 rejected."
   ]
  },
  {
   "cell_type": "code",
   "execution_count": 51,
   "metadata": {},
   "outputs": [
    {
     "data": {
      "text/html": [
       "<div>\n",
       "<style>\n",
       "    .dataframe thead tr:only-child th {\n",
       "        text-align: right;\n",
       "    }\n",
       "\n",
       "    .dataframe thead th {\n",
       "        text-align: left;\n",
       "    }\n",
       "\n",
       "    .dataframe tbody tr th {\n",
       "        vertical-align: top;\n",
       "    }\n",
       "</style>\n",
       "<table border=\"1\" class=\"dataframe\">\n",
       "  <thead>\n",
       "    <tr style=\"text-align: right;\">\n",
       "      <th></th>\n",
       "      <th>admit</th>\n",
       "      <th>gpa</th>\n",
       "      <th>gre</th>\n",
       "    </tr>\n",
       "  </thead>\n",
       "  <tbody>\n",
       "    <tr>\n",
       "      <th>count</th>\n",
       "      <td>644.000000</td>\n",
       "      <td>644.000000</td>\n",
       "      <td>644.000000</td>\n",
       "    </tr>\n",
       "    <tr>\n",
       "      <th>mean</th>\n",
       "      <td>0.378882</td>\n",
       "      <td>3.239936</td>\n",
       "      <td>612.923057</td>\n",
       "    </tr>\n",
       "    <tr>\n",
       "      <th>std</th>\n",
       "      <td>0.485486</td>\n",
       "      <td>0.291907</td>\n",
       "      <td>76.637990</td>\n",
       "    </tr>\n",
       "    <tr>\n",
       "      <th>min</th>\n",
       "      <td>0.000000</td>\n",
       "      <td>2.177100</td>\n",
       "      <td>390.363563</td>\n",
       "    </tr>\n",
       "    <tr>\n",
       "      <th>25%</th>\n",
       "      <td>0.000000</td>\n",
       "      <td>3.045036</td>\n",
       "      <td>560.596793</td>\n",
       "    </tr>\n",
       "    <tr>\n",
       "      <th>50%</th>\n",
       "      <td>0.000000</td>\n",
       "      <td>3.234650</td>\n",
       "      <td>612.104848</td>\n",
       "    </tr>\n",
       "    <tr>\n",
       "      <th>75%</th>\n",
       "      <td>1.000000</td>\n",
       "      <td>3.448415</td>\n",
       "      <td>663.094697</td>\n",
       "    </tr>\n",
       "    <tr>\n",
       "      <th>max</th>\n",
       "      <td>1.000000</td>\n",
       "      <td>4.000000</td>\n",
       "      <td>800.000000</td>\n",
       "    </tr>\n",
       "  </tbody>\n",
       "</table>\n",
       "</div>"
      ],
      "text/plain": [
       "            admit         gpa         gre\n",
       "count  644.000000  644.000000  644.000000\n",
       "mean     0.378882    3.239936  612.923057\n",
       "std      0.485486    0.291907   76.637990\n",
       "min      0.000000    2.177100  390.363563\n",
       "25%      0.000000    3.045036  560.596793\n",
       "50%      0.000000    3.234650  612.104848\n",
       "75%      1.000000    3.448415  663.094697\n",
       "max      1.000000    4.000000  800.000000"
      ]
     },
     "execution_count": 51,
     "metadata": {},
     "output_type": "execute_result"
    }
   ],
   "source": [
    "admissions.describe()"
   ]
  },
  {
   "cell_type": "code",
   "execution_count": 52,
   "metadata": {},
   "outputs": [
    {
     "data": {
      "image/png": "[encoded data removed]",
      "text/plain": [
       "<Figure size 720x360 with 1 Axes>"
      ]
     },
     "metadata": {
      "needs_background": "light"
     },
     "output_type": "display_data"
    }
   ],
   "source": [
    "fig = plt.figure(figsize=(10,5))\n",
    "plt.scatter(x=admissions['gpa'], y=admissions['admit'], color=[\"red\"])\n",
    "plt.xlabel(\"GPA\")\n",
    "plt.ylabel(\"Admitted\")\n",
    "plt.show()"
   ]
  },
  {
   "cell_type": "code",
   "execution_count": 53,
   "metadata": {},
   "outputs": [
    {
     "data": {
      "text/plain": [
       "<matplotlib.axes._subplots.AxesSubplot at 0x181c5d46ba8>"
      ]
     },
     "execution_count": 53,
     "metadata": {},
     "output_type": "execute_result"
    },
    {
     "data": {
      "image/png": "[encoded data removed]",
      "text/plain": [
       "<Figure size 432x288 with 1 Axes>"
      ]
     },
     "metadata": {
      "needs_background": "light"
     },
     "output_type": "display_data"
    }
   ],
   "source": [
    "admit_vc = admissions['admit'].value_counts()\n",
    "admit_vc\n",
    "admit_vc.plot(kind=\"bar\", title=\"Admitted or not\")"
   ]
  },
  {
   "cell_type": "markdown",
   "metadata": {},
   "source": [
    "The plot reflects the binary, categorical quality of the variable. However there is a range of value roughly between 2.85 and 3.75 GPA score where admitted or not intersect. GPA cannot be the only decision criterium from admissions."
   ]
  },
  {
   "cell_type": "markdown",
   "metadata": {},
   "source": [
    "### Additional cleaning?\n"
   ]
  },
  {
   "cell_type": "markdown",
   "metadata": {},
   "source": [
    "Are there any NaN values?"
   ]
  },
  {
   "cell_type": "code",
   "execution_count": 54,
   "metadata": {},
   "outputs": [
    {
     "data": {
      "text/plain": [
       "admit    0\n",
       "gpa      0\n",
       "gre      0\n",
       "dtype: int64"
      ]
     },
     "execution_count": 54,
     "metadata": {},
     "output_type": "execute_result"
    }
   ],
   "source": [
    "admissions.isnull().sum()"
   ]
  },
  {
   "cell_type": "markdown",
   "metadata": {},
   "source": [
    "### Tidy data?"
   ]
  },
  {
   "cell_type": "code",
   "execution_count": 55,
   "metadata": {},
   "outputs": [
    {
     "name": "stdout",
     "output_type": "stream",
     "text": [
      "Index(['admit', 'gpa', 'gre'], dtype='object')\n",
      "<class 'pandas.core.frame.DataFrame'>\n",
      "RangeIndex: 644 entries, 0 to 643\n",
      "Data columns (total 3 columns):\n",
      "admit    644 non-null int64\n",
      "gpa      644 non-null float64\n",
      "gre      644 non-null float64\n",
      "dtypes: float64(2), int64(1)\n",
      "memory usage: 15.2 KB\n",
      "[0 1]\n",
      "[ 3.17727726  3.41265536  2.72809714  3.09355908]\n",
      "[ 594.10299158  631.52860672  553.71439893  551.08998512]\n",
      "0\n",
      "0\n"
     ]
    }
   ],
   "source": [
    "print(admissions.columns)\n",
    "admissions.info()\n",
    "print(admissions['admit'].unique())\n",
    "print(admissions['gpa'].unique()[0:4])\n",
    "print(admissions['gre'].unique()[0:4])\n",
    "\n",
    "\n",
    "def values_not_numerical(series):\n",
    "    \n",
    "    values_not_numerical = 0\n",
    "    \n",
    "    for v in series:\n",
    "\n",
    "        if str(v.dtype) == \"int64\" or str(v.dtype)==\"float64\":\n",
    "            values_not_numerical = values_not_numerical + 0\n",
    "        else:\n",
    "            values_not_numerical = values_not_numerical + 1\n",
    "    \n",
    "    return values_not_numerical\n",
    "\n",
    "gpa_not_numeric = values_not_numerical(series=admissions['gpa'])\n",
    "print(gpa_not_numeric)\n",
    "gre_not_numeric = values_not_numerical(series=admissions['gre'])\n",
    "print(gre_not_numeric)    \n",
    "\n",
    "# Column headers are variable names , not values.\n",
    "# Column header are variable names\n",
    "# Data points are values, not variable names\n",
    "# Data points are values\n",
    "# Variables are stored in both rows and columns - no\n",
    "# Variables are stored only in columns\n",
    "# Multiple types in one table\n",
    "# Multiple variables are not stored in one column"
   ]
  },
  {
   "cell_type": "markdown",
   "metadata": {},
   "source": [
    "The data is tidy.\n"
   ]
  },
  {
   "cell_type": "markdown",
   "metadata": {},
   "source": [
    "## Logistic regression\n",
    "\n",
    "The target variable is binary. The variables are numeric. This makes it possible to apply a logistic regression model.\n",
    "Logistic regression calculates the probability of admission or not. The y-results of a logistic regression function must therefore be between 0 and 1. This implies the y-values must be positive and smaller than one and greater than 0.\n",
    "Above a threshold the probability y-values are understood as yes - admission or no - not. The standard value of sklearn is 0.5."
   ]
  },
  {
   "cell_type": "code",
   "execution_count": 56,
   "metadata": {},
   "outputs": [
    {
     "data": {
      "text/plain": [
       "2.7182818284590451"
      ]
     },
     "execution_count": 56,
     "metadata": {},
     "output_type": "execute_result"
    }
   ],
   "source": [
    "np.exp(1)"
   ]
  },
  {
   "cell_type": "markdown",
   "metadata": {},
   "source": [
    "Logistic regression combines two transformations: exponential transformation and normalization."
   ]
  },
  {
   "cell_type": "markdown",
   "metadata": {},
   "source": [
    "Exponential transformation: y = e^x"
   ]
  },
  {
   "cell_type": "code",
   "execution_count": 57,
   "metadata": {},
   "outputs": [
    {
     "name": "stdout",
     "output_type": "stream",
     "text": [
      "22\n",
      "[-11.          -9.95238095  -8.9047619   -7.85714286  -6.80952381\n",
      "  -5.76190476  -4.71428571  -3.66666667  -2.61904762  -1.57142857\n",
      "  -0.52380952   0.52380952   1.57142857   2.61904762   3.66666667\n",
      "   4.71428571   5.76190476   6.80952381   7.85714286   8.9047619\n",
      "   9.95238095  11.        ]\n"
     ]
    },
    {
     "data": {
      "text/plain": [
       "array([  1.67017008e-05,   4.76141319e-05,   1.35740999e-04,\n",
       "         3.86977945e-04,   1.10321812e-03,   3.14511519e-03,\n",
       "         8.96626826e-03,   2.55615332e-02,   7.28722319e-02,\n",
       "         2.07748187e-01,   5.92260016e-01,   1.68844759e+00,\n",
       "         4.81351974e+00,   1.37226482e+01,   3.91212840e+01,\n",
       "         1.11529119e+02,   3.17953378e+02,   9.06439067e+02,\n",
       "         2.58412660e+03,   7.36697096e+03,   2.10021681e+04,\n",
       "         5.98741417e+04])"
      ]
     },
     "execution_count": 57,
     "metadata": {},
     "output_type": "execute_result"
    }
   ],
   "source": [
    "# Producing x-values\n",
    "x_input_values = np.linspace(-11, 11, 22)\n",
    "print(len(x_input_values))\n",
    "print(x_input_values)\n",
    "\n",
    "y_output_values_exp_tranformation = np.exp(x_input_values)\n",
    "y_output_values_exp_tranformation"
   ]
  },
  {
   "cell_type": "markdown",
   "metadata": {},
   "source": [
    "Normalization: y = x / (x+1)"
   ]
  },
  {
   "cell_type": "code",
   "execution_count": 58,
   "metadata": {},
   "outputs": [
    {
     "data": {
      "text/plain": [
       "array([ 1.1       ,  1.11170213,  1.12650602,  1.14583333,  1.17213115,\n",
       "        1.21      ,  1.26923077,  1.375     ,  1.61764706,  2.75      ,\n",
       "       -1.1       ,  0.34375   ,  0.61111111,  0.72368421,  0.78571429,\n",
       "        0.825     ,  0.85211268,  0.87195122,  0.88709677,  0.89903846,\n",
       "        0.90869565,  0.91666667])"
      ]
     },
     "execution_count": 58,
     "metadata": {},
     "output_type": "execute_result"
    }
   ],
   "source": [
    "y_output_values_normalization = x_input_values / (x_input_values+1)\n",
    "y_output_values_normalization "
   ]
  },
  {
   "cell_type": "markdown",
   "metadata": {},
   "source": [
    "Logistic transformation"
   ]
  },
  {
   "cell_type": "code",
   "execution_count": 59,
   "metadata": {},
   "outputs": [
    {
     "name": "stdout",
     "output_type": "stream",
     "text": [
      "Input values:  [-11.          -9.95238095  -8.9047619   -7.85714286  -6.80952381]\n",
      "Output values: [  1.67014218e-05   4.76118649e-05   1.35722576e-04   3.86828251e-04\n",
      "   1.10200237e-03   3.13525446e-03   8.88658872e-03   2.49244266e-02\n",
      "   6.79225631e-02   1.72012833e-01   3.71961872e-01   6.28038128e-01\n",
      "   8.27987167e-01   9.32077437e-01   9.75075573e-01   9.91113411e-01\n",
      "   9.96864746e-01   9.98897998e-01   9.99613172e-01   9.99864277e-01\n",
      "   9.99952388e-01   9.99983299e-01]\n"
     ]
    }
   ],
   "source": [
    "def logistic_function(x):\n",
    "    probabilities = np.exp(x) / (1+np.exp(x))\n",
    "    return probabilities\n",
    "\n",
    "print(\"Input values: \",x_input_values[0:5])\n",
    "# Here are negative values incorporated. \n",
    "# Negatives are not allowed in logistic regression and must therefore be transformed.\n",
    "y_output_values = logistic_function(x_input_values)\n",
    "print(\"Output values:\", y_output_values )"
   ]
  },
  {
   "cell_type": "code",
   "execution_count": 60,
   "metadata": {},
   "outputs": [
    {
     "data": {
      "image/png": "[encoded data removed]",
      "text/plain": [
       "<Figure size 1080x288 with 3 Axes>"
      ]
     },
     "metadata": {
      "needs_background": "light"
     },
     "output_type": "display_data"
    }
   ],
   "source": [
    "figure = plt.figure(figsize=(15,4))\n",
    "figure.add_subplot(131)\n",
    "plt.plot(x_input_values,y_output_values)\n",
    "plt.ylabel(\"Probabilities\")\n",
    "plt.title(\"Probability of input values through \\nlogistic regression\")\n",
    "figure.add_subplot(132)\n",
    "plt.plot(x_input_values,y_output_values_exp_tranformation)\n",
    "plt.xlabel(\"Input values\")\n",
    "plt.title(\"Exponential transformation only\")\n",
    "figure.add_subplot(133)\n",
    "plt.plot(x_input_values, y_output_values_normalization )\n",
    "plt.title(\"Normalization only\")\n",
    "plt.show()\n"
   ]
  },
  {
   "cell_type": "markdown",
   "metadata": {},
   "source": [
    "Exponential increases the scale, normalization generates also negative values."
   ]
  },
  {
   "cell_type": "markdown",
   "metadata": {},
   "source": [
    "#### Fitting a simple univariate logistic regression model to the admission data"
   ]
  },
  {
   "cell_type": "code",
   "execution_count": 61,
   "metadata": {},
   "outputs": [
    {
     "name": "stdout",
     "output_type": "stream",
     "text": [
      "[0 1]\n"
     ]
    },
    {
     "data": {
      "text/plain": [
       "LogisticRegression(C=1.0, class_weight=None, dual=False, fit_intercept=True,\n",
       "          intercept_scaling=1, max_iter=100, multi_class='ovr', n_jobs=1,\n",
       "          penalty='l2', random_state=None, solver='liblinear', tol=0.0001,\n",
       "          verbose=0, warm_start=False)"
      ]
     },
     "execution_count": 61,
     "metadata": {},
     "output_type": "execute_result"
    }
   ],
   "source": [
    "# Target variable: admit\n",
    "# Feature: gpa\n",
    "x_12 = admissions[[\"gpa\"]]\n",
    "y_12 = admissions[\"admit\"]\n",
    "print(y_12.unique())\n",
    "\n",
    "logistic_model = LogisticRegression()\n",
    "logistic_model.fit(x_12, y_12)"
   ]
  },
  {
   "cell_type": "code",
   "execution_count": 62,
   "metadata": {},
   "outputs": [
    {
     "data": {
      "text/plain": [
       "array([[ 0.63387918,  0.36612082],\n",
       "       [ 0.57129471,  0.42870529],\n",
       "       [ 0.74047131,  0.25952869],\n",
       "       ..., \n",
       "       [ 0.64994531,  0.35005469],\n",
       "       [ 0.53382227,  0.46617773],\n",
       "       [ 0.53831911,  0.46168089]])"
      ]
     },
     "execution_count": 62,
     "metadata": {},
     "output_type": "execute_result"
    }
   ],
   "source": [
    "probabilities_12 = logistic_model.predict_proba(x_12)\n",
    "probabilities_12\n",
    "# every sublist contains the probability of being 0 or 1."
   ]
  },
  {
   "cell_type": "code",
   "execution_count": 63,
   "metadata": {},
   "outputs": [
    {
     "data": {
      "text/plain": [
       "1.0"
      ]
     },
     "execution_count": 63,
     "metadata": {},
     "output_type": "execute_result"
    }
   ],
   "source": [
    "0.63387918 +  0.36612082\n",
    "# both probabilities sum up to one"
   ]
  },
  {
   "cell_type": "markdown",
   "metadata": {},
   "source": [
    "Visualizing the probabilities"
   ]
  },
  {
   "cell_type": "code",
   "execution_count": 64,
   "metadata": {},
   "outputs": [
    {
     "data": {
      "image/png": "[encoded data removed]",
      "text/plain": [
       "<Figure size 648x288 with 2 Axes>"
      ]
     },
     "metadata": {
      "needs_background": "light"
     },
     "output_type": "display_data"
    }
   ],
   "source": [
    "figure = plt.figure(figsize=(9,4))\n",
    "figure.add_subplot(121)\n",
    "plt.scatter(x_12, probabilities_12[:,0])\n",
    "plt.xlabel(\"GPA-Score\")\n",
    "plt.ylabel(\"Probability\")\n",
    "plt.title(\"Probability of not addmitted or 0\")\n",
    "figure.add_subplot(122)\n",
    "plt.scatter(x_12, probabilities_12[:,1])\n",
    "plt.xlabel(\"GPA-Score\")\n",
    "plt.title(\"Probability of not addmitted or 1\")\n",
    "plt.show()"
   ]
  },
  {
   "cell_type": "markdown",
   "metadata": {},
   "source": [
    "The probability of being addmitted increases nearly linear with GPA-Score."
   ]
  },
  {
   "cell_type": "markdown",
   "metadata": {},
   "source": [
    "Predicting outcomes instead of probabilities given a probability threshold of 0.5.<br>\n",
    "The discrimination threshold in scikit-learn is set to 0.5 by default when predicting labels.\n"
   ]
  },
  {
   "cell_type": "code",
   "execution_count": 65,
   "metadata": {},
   "outputs": [
    {
     "data": {
      "text/plain": [
       "array([0, 0, 0, 0, 0, 0, 0, 0, 0, 1], dtype=int64)"
      ]
     },
     "execution_count": 65,
     "metadata": {},
     "output_type": "execute_result"
    }
   ],
   "source": [
    "predictions_33 = logistic_model.predict(x_12)\n",
    "predictions_33[0:10]"
   ]
  },
  {
   "cell_type": "code",
   "execution_count": 66,
   "metadata": {},
   "outputs": [
    {
     "data": {
      "text/plain": [
       "array([ 0.36612082,  0.42870529,  0.25952869,  0.3447954 ,  0.35704522,\n",
       "        0.48006425,  0.38218472,  0.43075511,  0.46990749,  0.56623396])"
      ]
     },
     "execution_count": 66,
     "metadata": {},
     "output_type": "execute_result"
    }
   ],
   "source": [
    "probabilities_12[0:10,1]"
   ]
  },
  {
   "cell_type": "markdown",
   "metadata": {},
   "source": [
    "#### Calculate the accuracy score directly.\n",
    "\n",
    "The accuracy is number of true predictions of all observations. <br>\n",
    "Accuracy (ACC) = Σ True positive + Σ True negative/Σ Total population<br>\n",
    "https://en.wikipedia.org/wiki/Evaluation_of_binary_classifiers"
   ]
  },
  {
   "cell_type": "code",
   "execution_count": 67,
   "metadata": {},
   "outputs": [
    {
     "name": "stdout",
     "output_type": "stream",
     "text": [
      "0    598\n",
      "1     46\n",
      "Name: predicted_labels, dtype: int64\n",
      "Index(['actual_label', 'gpa', 'gre', 'predicted_labels'], dtype='object')\n",
      "    actual_label       gpa         gre  predicted_labels\n",
      "71             0  3.691417  496.273937                 1\n",
      "72             0  3.116568  650.321216                 0\n",
      "73             0  2.755856  693.451548                 0\n",
      "74             0  3.749812  541.426663                 1\n"
     ]
    }
   ],
   "source": [
    "admissions_2 = admissions.copy()\n",
    "admissions_2[\"predicted_labels\"] = predictions_33\n",
    "admissions_2=admissions_2.rename(columns={\"admit\":\"actual_label\"})\n",
    "print(admissions_2['predicted_labels'].value_counts())\n",
    "print(admissions_2.columns)\n",
    "print(admissions_2[71:75])"
   ]
  },
  {
   "cell_type": "code",
   "execution_count": 68,
   "metadata": {},
   "outputs": [
    {
     "name": "stdout",
     "output_type": "stream",
     "text": [
      "   actual_label       gpa         gre  predicted_labels\n",
      "0             0  3.177277  594.102992                 0\n",
      "1             0  3.412655  631.528607                 0\n",
      "2             0  2.728097  553.714399                 0\n",
      "3             0  3.093559  551.089985                 0\n",
      "4             0  3.141923  537.184894                 0\n",
      "0.6459627329192547\n"
     ]
    }
   ],
   "source": [
    "\n",
    "true_predictions= admissions_2['actual_label'] == admissions_2['predicted_labels']\n",
    "true_predictions_df = admissions_2.loc[true_predictions, :]\n",
    "print(true_predictions_df.head(5))\n",
    "accuracy_11 = true_predictions_df.shape[0] / admissions_2.shape[0]\n",
    "print(accuracy_11)"
   ]
  },
  {
   "cell_type": "code",
   "execution_count": 69,
   "metadata": {},
   "outputs": [
    {
     "name": "stdout",
     "output_type": "stream",
     "text": [
      "31\n"
     ]
    }
   ],
   "source": [
    "true_positives_2 = admissions_2[(admissions_2['actual_label'] == 1) & (admissions_2['predicted_labels']==1)].shape[0]\n",
    "print(true_positives_2)"
   ]
  },
  {
   "cell_type": "code",
   "execution_count": 70,
   "metadata": {},
   "outputs": [
    {
     "name": "stdout",
     "output_type": "stream",
     "text": [
      "385\n"
     ]
    }
   ],
   "source": [
    "true_negatives_2 = admissions_2[(admissions_2['actual_label'] == 0) & (admissions_2['predicted_labels']==0)].shape[0]\n",
    "print(true_negatives_2)"
   ]
  },
  {
   "cell_type": "code",
   "execution_count": 71,
   "metadata": {},
   "outputs": [
    {
     "data": {
      "text/plain": [
       "213"
      ]
     },
     "execution_count": 71,
     "metadata": {},
     "output_type": "execute_result"
    }
   ],
   "source": [
    "false_negatives_2 = admissions_2[(admissions_2[\"predicted_labels\"] == 0) & (admissions_2[\"actual_label\"] == 1)].shape[0]\n",
    "false_negatives_2"
   ]
  },
  {
   "cell_type": "markdown",
   "metadata": {},
   "source": [
    "Calculating sensitivity - True Positivity Rate  - identifying positive outcomes"
   ]
  },
  {
   "cell_type": "code",
   "execution_count": 72,
   "metadata": {},
   "outputs": [
    {
     "data": {
      "text/plain": [
       "0.12704918032786885"
      ]
     },
     "execution_count": 72,
     "metadata": {},
     "output_type": "execute_result"
    }
   ],
   "source": [
    "sensitivity_2 = true_positives_2 / (true_positives_2 + false_negatives_2 )\n",
    "sensitivity_2"
   ]
  },
  {
   "cell_type": "code",
   "execution_count": 73,
   "metadata": {},
   "outputs": [
    {
     "data": {
      "text/plain": [
       "15"
      ]
     },
     "execution_count": 73,
     "metadata": {},
     "output_type": "execute_result"
    }
   ],
   "source": [
    "false_positives_2 = admissions_2[(admissions_2[\"predicted_labels\"] == 1) & (admissions_2[\"actual_label\"] == 0)].shape[0]\n",
    "false_positives_2"
   ]
  },
  {
   "cell_type": "markdown",
   "metadata": {},
   "source": [
    "Calculating specificity - True Negative Rate - identifying negative outcomes"
   ]
  },
  {
   "cell_type": "code",
   "execution_count": 74,
   "metadata": {},
   "outputs": [
    {
     "data": {
      "text/plain": [
       "0.9625"
      ]
     },
     "execution_count": 74,
     "metadata": {},
     "output_type": "execute_result"
    }
   ],
   "source": [
    "specificity = true_negatives_2 / (true_negatives_2 + false_positives_2)\n",
    "specificity "
   ]
  },
  {
   "cell_type": "markdown",
   "metadata": {},
   "source": [
    "96 percent of all not admitted observations were correctly predicted. <br>\n",
    "Specificity and sensitivity are often inversely related and improving one of those can lead to a trade off."
   ]
  },
  {
   "cell_type": "markdown",
   "metadata": {},
   "source": [
    "Calculating the accuracy from a contingency table of true versus predicted."
   ]
  },
  {
   "cell_type": "code",
   "execution_count": 75,
   "metadata": {},
   "outputs": [
    {
     "data": {
      "text/html": [
       "<div>\n",
       "<style>\n",
       "    .dataframe thead tr:only-child th {\n",
       "        text-align: right;\n",
       "    }\n",
       "\n",
       "    .dataframe thead th {\n",
       "        text-align: left;\n",
       "    }\n",
       "\n",
       "    .dataframe tbody tr th {\n",
       "        vertical-align: top;\n",
       "    }\n",
       "</style>\n",
       "<table border=\"1\" class=\"dataframe\">\n",
       "  <thead>\n",
       "    <tr style=\"text-align: right;\">\n",
       "      <th>Predicted</th>\n",
       "      <th>0</th>\n",
       "      <th>1</th>\n",
       "      <th>All</th>\n",
       "    </tr>\n",
       "    <tr>\n",
       "      <th>True</th>\n",
       "      <th></th>\n",
       "      <th></th>\n",
       "      <th></th>\n",
       "    </tr>\n",
       "  </thead>\n",
       "  <tbody>\n",
       "    <tr>\n",
       "      <th>0</th>\n",
       "      <td>385</td>\n",
       "      <td>15</td>\n",
       "      <td>400</td>\n",
       "    </tr>\n",
       "    <tr>\n",
       "      <th>1</th>\n",
       "      <td>213</td>\n",
       "      <td>31</td>\n",
       "      <td>244</td>\n",
       "    </tr>\n",
       "    <tr>\n",
       "      <th>All</th>\n",
       "      <td>598</td>\n",
       "      <td>46</td>\n",
       "      <td>644</td>\n",
       "    </tr>\n",
       "  </tbody>\n",
       "</table>\n",
       "</div>"
      ],
      "text/plain": [
       "Predicted    0   1  All\n",
       "True                   \n",
       "0          385  15  400\n",
       "1          213  31  244\n",
       "All        598  46  644"
      ]
     },
     "execution_count": 75,
     "metadata": {},
     "output_type": "execute_result"
    }
   ],
   "source": [
    "# https://pandas.pydata.org/pandas-docs/stable/reference/api/pandas.crosstab.html\n",
    "cfm_1 = pd.crosstab(y_12, predictions_33 , rownames=['True'], colnames=['Predicted'], margins=True)\n",
    "cfm_1 "
   ]
  },
  {
   "cell_type": "code",
   "execution_count": 76,
   "metadata": {},
   "outputs": [
    {
     "name": "stdout",
     "output_type": "stream",
     "text": [
      "385\n",
      "15\n",
      "213\n",
      "31\n"
     ]
    }
   ],
   "source": [
    "# https://scikit-learn.org/stable/modules/generated/sklearn.metrics.confusion_matrix.html\n",
    "tn, fp, fn, tp = confusion_matrix(y_12, predictions_33 ).ravel()\n",
    "print(tn)\n",
    "print(fp)\n",
    "print(fn)\n",
    "print(tp)"
   ]
  },
  {
   "cell_type": "code",
   "execution_count": 77,
   "metadata": {},
   "outputs": [
    {
     "data": {
      "text/plain": [
       "0.64596273291925466"
      ]
     },
     "execution_count": 77,
     "metadata": {},
     "output_type": "execute_result"
    }
   ],
   "source": [
    "accuracy_455 = (tn+tp) / admissions_2.shape[0]\n",
    "accuracy_455"
   ]
  },
  {
   "cell_type": "markdown",
   "metadata": {},
   "source": [
    "Calculating sensitivity."
   ]
  },
  {
   "cell_type": "code",
   "execution_count": 78,
   "metadata": {},
   "outputs": [
    {
     "data": {
      "text/plain": [
       "0.12704918032786885"
      ]
     },
     "execution_count": 78,
     "metadata": {},
     "output_type": "execute_result"
    }
   ],
   "source": [
    "sensitivity = tp / (tp+fn)\n",
    "sensitivity\n",
    "# Fraction of students, who are admitted, correctly as such predited"
   ]
  },
  {
   "cell_type": "markdown",
   "metadata": {},
   "source": [
    "Calculating the accuracy score with sklearn."
   ]
  },
  {
   "cell_type": "code",
   "execution_count": 79,
   "metadata": {},
   "outputs": [
    {
     "data": {
      "text/plain": [
       "0.64596273291925466"
      ]
     },
     "execution_count": 79,
     "metadata": {},
     "output_type": "execute_result"
    }
   ],
   "source": [
    "accuracy_1 = accuracy_score(y_12, predictions_33 )\n",
    "accuracy_1"
   ]
  },
  {
   "cell_type": "markdown",
   "metadata": {},
   "source": [
    "#### Using the same univariate gpa model with a train-test-split."
   ]
  },
  {
   "cell_type": "code",
   "execution_count": 80,
   "metadata": {},
   "outputs": [
    {
     "name": "stdout",
     "output_type": "stream",
     "text": [
      "(431, 1)\n",
      "(431,)\n",
      "(213, 1)\n",
      "(213,)\n"
     ]
    }
   ],
   "source": [
    "X_train, X_test, y_train, y_test = train_test_split(x_12, y_12, test_size=0.33, random_state=42)\n",
    "\n",
    "\n",
    "print(X_train.shape)\n",
    "print(y_train.shape)\n",
    "\n",
    "\n",
    "print(X_test.shape)\n",
    "print(y_test.shape)"
   ]
  },
  {
   "cell_type": "code",
   "execution_count": 81,
   "metadata": {},
   "outputs": [],
   "source": [
    "# Instantiate the model\n",
    "# https://scikit-learn.org/stable/modules/generated/sklearn.linear_model.LogisticRegression.html\n",
    "logistic_model_2 = LogisticRegression()"
   ]
  },
  {
   "cell_type": "code",
   "execution_count": 82,
   "metadata": {},
   "outputs": [
    {
     "data": {
      "text/plain": [
       "LogisticRegression(C=1.0, class_weight=None, dual=False, fit_intercept=True,\n",
       "          intercept_scaling=1, max_iter=100, multi_class='ovr', n_jobs=1,\n",
       "          penalty='l2', random_state=None, solver='liblinear', tol=0.0001,\n",
       "          verbose=0, warm_start=False)"
      ]
     },
     "execution_count": 82,
     "metadata": {},
     "output_type": "execute_result"
    }
   ],
   "source": [
    "# Fit the model\n",
    "logistic_model_2.fit(X_train, y_train)"
   ]
  },
  {
   "cell_type": "code",
   "execution_count": 83,
   "metadata": {},
   "outputs": [
    {
     "data": {
      "text/plain": [
       "(213, 2)"
      ]
     },
     "execution_count": 83,
     "metadata": {},
     "output_type": "execute_result"
    }
   ],
   "source": [
    "# Predict probabilities on the test data\n",
    "probabilities_2 = logistic_model_2.predict_proba(X_test)\n",
    "probabilities_2.shape\n",
    "# returns 2 a subset of lists containg 1 to 2 columns arrays"
   ]
  },
  {
   "cell_type": "code",
   "execution_count": 84,
   "metadata": {},
   "outputs": [
    {
     "name": "stdout",
     "output_type": "stream",
     "text": [
      "All probabilities:  [ 0.47475333  0.49835362  0.39679606  0.39153576  0.3774835   0.47067343\n",
      "  0.33993088  0.48128549  0.45155977  0.37835962  0.3234326   0.36954703\n",
      "  0.42352487  0.31987869  0.41121772  0.34786321  0.39164892  0.3619093\n",
      "  0.34583784  0.40867789  0.49124342  0.45018171  0.42130781  0.45554288\n",
      "  0.53160306]\n"
     ]
    }
   ],
   "source": [
    "print(\"All probabilities: \",  probabilities_2[0:25,1])"
   ]
  },
  {
   "cell_type": "code",
   "execution_count": 85,
   "metadata": {},
   "outputs": [
    {
     "name": "stdout",
     "output_type": "stream",
     "text": [
      "Only probabilities of not admitted:  [ 0.52524667  0.50164638  0.60320394  0.60846424  0.6225165   0.52932657\n",
      "  0.66006912  0.51871451  0.54844023  0.62164038  0.6765674   0.63045297\n",
      "  0.57647513  0.68012131  0.58878228  0.65213679  0.60835108  0.6380907\n",
      "  0.65416216  0.59132211  0.50875658  0.54981829  0.57869219  0.54445712\n",
      "  0.46839694]\n"
     ]
    }
   ],
   "source": [
    "print(\"Only probabilities of not admitted: \", probabilities_2[0:25, 0])"
   ]
  },
  {
   "cell_type": "code",
   "execution_count": 86,
   "metadata": {},
   "outputs": [
    {
     "name": "stdout",
     "output_type": "stream",
     "text": [
      "Only probabilities of admitted:  [ 0.47475333  0.49835362  0.39679606  0.39153576  0.3774835   0.47067343\n",
      "  0.33993088  0.48128549  0.45155977  0.37835962  0.3234326   0.36954703\n",
      "  0.42352487  0.31987869  0.41121772  0.34786321  0.39164892  0.3619093\n",
      "  0.34583784  0.40867789  0.49124342  0.45018171  0.42130781  0.45554288\n",
      "  0.53160306]\n"
     ]
    }
   ],
   "source": [
    "print(\"Only probabilities of admitted: \", probabilities_2[0:25, 1])"
   ]
  },
  {
   "cell_type": "code",
   "execution_count": 87,
   "metadata": {},
   "outputs": [
    {
     "data": {
      "text/plain": [
       "(213,)"
      ]
     },
     "execution_count": 87,
     "metadata": {},
     "output_type": "execute_result"
    }
   ],
   "source": [
    "predictions_2 = logistic_model_2.predict(X_test)\n",
    "predictions_2.shape\n",
    "# Make predictions of outcome 1 or 0"
   ]
  },
  {
   "cell_type": "code",
   "execution_count": 88,
   "metadata": {},
   "outputs": [
    {
     "data": {
      "text/plain": [
       "array([0, 0, 0, 0, 0, 0, 0, 0, 0, 0, 0, 0, 0, 0, 0, 0, 0, 0, 0, 0, 0, 0, 0,\n",
       "       0, 1], dtype=int64)"
      ]
     },
     "execution_count": 88,
     "metadata": {},
     "output_type": "execute_result"
    }
   ],
   "source": [
    "predictions_2[0:25]"
   ]
  },
  {
   "cell_type": "code",
   "execution_count": 89,
   "metadata": {},
   "outputs": [
    {
     "data": {
      "text/plain": [
       "0.676056338028169"
      ]
     },
     "execution_count": 89,
     "metadata": {},
     "output_type": "execute_result"
    }
   ],
   "source": [
    "accuracy_2 = accuracy_score(y_test, predictions_2)\n",
    "accuracy_2"
   ]
  },
  {
   "cell_type": "code",
   "execution_count": 90,
   "metadata": {},
   "outputs": [
    {
     "name": "stdout",
     "output_type": "stream",
     "text": [
      "0.645962732919\n",
      "0.676056338028\n",
      "0.0301\n"
     ]
    }
   ],
   "source": [
    "print(accuracy_1)\n",
    "print(accuracy_2)\n",
    "difference_2 = accuracy_2 - accuracy_1\n",
    "print(round(difference_2,4))"
   ]
  },
  {
   "cell_type": "markdown",
   "metadata": {},
   "source": [
    "The step from the one feature model to the one feature model with train-test-split increases the accuracy of the model of 0.0301. (Other than the root mean score error used in regression models a higher accuracy score is of course good.)"
   ]
  },
  {
   "cell_type": "markdown",
   "metadata": {},
   "source": [
    "#### Applying a two feature model with a train-test-split"
   ]
  },
  {
   "cell_type": "code",
   "execution_count": 91,
   "metadata": {},
   "outputs": [
    {
     "name": "stdout",
     "output_type": "stream",
     "text": [
      "[0 1]\n",
      "        gpa         gre\n",
      "0  3.177277  594.102992\n",
      "1  3.412655  631.528607\n",
      "2  2.728097  553.714399\n",
      "3  3.093559  551.089985\n",
      "4  3.141923  537.184894\n"
     ]
    }
   ],
   "source": [
    "x_4= admissions[[\"gpa\", \"gre\" ]]\n",
    "y_4 = admissions[\"admit\"]\n",
    "print(y_12.unique())\n",
    "print(x_4.iloc[0:5])"
   ]
  },
  {
   "cell_type": "code",
   "execution_count": 92,
   "metadata": {},
   "outputs": [],
   "source": [
    "# conducting a train-test-split\n",
    "X_train, X_test, y_train, y_test = train_test_split(x_4, y_4, test_size=0.33, random_state=33)"
   ]
  },
  {
   "cell_type": "code",
   "execution_count": 93,
   "metadata": {},
   "outputs": [
    {
     "data": {
      "text/plain": [
       "LogisticRegression(C=1.0, class_weight=None, dual=False, fit_intercept=True,\n",
       "          intercept_scaling=1, max_iter=100, multi_class='ovr', n_jobs=1,\n",
       "          penalty='l2', random_state=None, solver='liblinear', tol=0.0001,\n",
       "          verbose=0, warm_start=False)"
      ]
     },
     "execution_count": 93,
     "metadata": {},
     "output_type": "execute_result"
    }
   ],
   "source": [
    "# Instantiating the Logistic Regression algorithm\n",
    "logistic_model_4 = LogisticRegression()\n",
    "# Fit the logistic regression model \n",
    "logistic_model_4.fit(X_train, y_train)"
   ]
  },
  {
   "cell_type": "code",
   "execution_count": 94,
   "metadata": {},
   "outputs": [
    {
     "data": {
      "text/plain": [
       "array([[ 0.4635588 ,  0.5364412 ],\n",
       "       [ 0.79949465,  0.20050535],\n",
       "       [ 0.57485402,  0.42514598],\n",
       "       [ 0.82645585,  0.17354415],\n",
       "       [ 0.51989728,  0.48010272]])"
      ]
     },
     "execution_count": 94,
     "metadata": {},
     "output_type": "execute_result"
    }
   ],
   "source": [
    "# predict probabilities\n",
    "probabilities_4 = logistic_model_4.predict_proba(X_test)\n",
    "probabilities_4[0:5]"
   ]
  },
  {
   "cell_type": "code",
   "execution_count": 95,
   "metadata": {},
   "outputs": [
    {
     "data": {
      "text/plain": [
       "array([1, 0, 0, 0, 0], dtype=int64)"
      ]
     },
     "execution_count": 95,
     "metadata": {},
     "output_type": "execute_result"
    }
   ],
   "source": [
    "predictions_4 = logistic_model_4.predict(X_test)\n",
    "predictions_4[0:5]"
   ]
  },
  {
   "cell_type": "code",
   "execution_count": 96,
   "metadata": {},
   "outputs": [
    {
     "data": {
      "text/plain": [
       "0.70422535211267601"
      ]
     },
     "execution_count": 96,
     "metadata": {},
     "output_type": "execute_result"
    }
   ],
   "source": [
    "# evaluating the model\n",
    "accuracy_4 = accuracy_score(y_test, predictions_4)\n",
    "accuracy_4"
   ]
  },
  {
   "cell_type": "code",
   "execution_count": 97,
   "metadata": {},
   "outputs": [
    {
     "name": "stdout",
     "output_type": "stream",
     "text": [
      "Predicted    0   1  All\n",
      "True                   \n",
      "0          115  12  127\n",
      "1           51  35   86\n",
      "All        166  47  213\n",
      "<class 'pandas.core.frame.DataFrame'>\n",
      "115\n",
      "35\n",
      "213\n"
     ]
    }
   ],
   "source": [
    "# https://pandas.pydata.org/pandas-docs/stable/reference/api/pandas.crosstab.html\n",
    "cfm_2 = pd.crosstab(y_test, predictions_4, rownames=['True'], colnames=['Predicted'], margins=True)\n",
    "print(cfm_2)\n",
    "print(type(cfm_2))\n",
    "tn_2=cfm_2.iloc[0,0]\n",
    "tp_2=cfm_2.iloc[1,1]\n",
    "all_observations_2=cfm_2.iloc[2,2]\n",
    "\n",
    "print(tn_2)\n",
    "print(tp_2)\n",
    "print(all_observations_2)"
   ]
  },
  {
   "cell_type": "code",
   "execution_count": 98,
   "metadata": {},
   "outputs": [
    {
     "data": {
      "text/plain": [
       "1.9530516431924883"
      ]
     },
     "execution_count": 98,
     "metadata": {},
     "output_type": "execute_result"
    }
   ],
   "source": [
    "accuracy_41 = (tn+tp)/all_observations_2\n",
    "accuracy_41"
   ]
  },
  {
   "cell_type": "markdown",
   "metadata": {},
   "source": [
    "The accuracy_4 score results in a further improvement. The models predicts 70 percent of all observations \"admitted\" correctly."
   ]
  },
  {
   "cell_type": "code",
   "execution_count": 99,
   "metadata": {},
   "outputs": [
    {
     "data": {
      "text/plain": [
       "12.7049"
      ]
     },
     "execution_count": 99,
     "metadata": {},
     "output_type": "execute_result"
    }
   ],
   "source": [
    "# tp and fn are the positive outcomes, while fn are positive outcomes predicted wrongly as negative\n",
    "sensitivity_41 = (tp) / (tp+fn)\n",
    "round(sensitivity_41*100,4)\n"
   ]
  },
  {
   "cell_type": "markdown",
   "metadata": {},
   "source": [
    "14 percent of admitted students are predicted correctly as admitted while 86 percent of admitted students were predicted as not admitted."
   ]
  },
  {
   "cell_type": "markdown",
   "metadata": {},
   "source": [
    "Specificity - identifying negative outcomes - fraction of correctly predicted negative outcomes (tn) of overall actually negative outcomes - tn / (tn+fp)"
   ]
  },
  {
   "cell_type": "code",
   "execution_count": 100,
   "metadata": {},
   "outputs": [
    {
     "name": "stdout",
     "output_type": "stream",
     "text": [
      "Specificity: 96.25%\n"
     ]
    }
   ],
   "source": [
    "specificity_41 = tn / (tn+fp)\n",
    "print(\"Specificity: {}%\".format(round(specificity_41*100,2)))"
   ]
  },
  {
   "cell_type": "markdown",
   "metadata": {},
   "source": [
    "The model predicts 96 percent of not admitted students correctly as not admitted.\n"
   ]
  }
 ],
 "metadata": {
  "kernelspec": {
   "display_name": "Python 3",
   "language": "python",
   "name": "python3"
  }
 },
 "nbformat": 4,
 "nbformat_minor": 2
}
